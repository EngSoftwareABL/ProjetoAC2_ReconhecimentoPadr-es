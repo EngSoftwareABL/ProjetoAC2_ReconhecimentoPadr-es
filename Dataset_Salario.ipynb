{
 "cells": [
  {
   "cell_type": "markdown",
   "id": "19f30dd0",
   "metadata": {},
   "source": [
    "# **Dataset - HR Data MNC (Regressão)**"
   ]
  },
  {
   "cell_type": "markdown",
   "id": "5d674b52",
   "metadata": {},
   "source": [
    "O objetivo do grupo ao analisar esse dataset é, por meio dos dados de Recursos Humanos de uma multinacional, descobrir qual o salário dos funcionários."
   ]
  },
  {
   "cell_type": "markdown",
   "id": "502cfc07",
   "metadata": {},
   "source": [
    "## **0. Inserção das bibliotecas e leitura dos arquivos**"
   ]
  },
  {
   "cell_type": "markdown",
   "id": "2b7e1039",
   "metadata": {},
   "source": [
    "Nessa etapa será feita a leitura do arquivo (dataset) a ser analisado pelo grupo, além da criação do dataframe."
   ]
  },
  {
   "cell_type": "markdown",
   "id": "6dd6dab4",
   "metadata": {},
   "source": [
    "#### Imports Python"
   ]
  },
  {
   "cell_type": "code",
   "execution_count": 1,
   "id": "472ad2fd",
   "metadata": {},
   "outputs": [],
   "source": [
    "import pandas as pd\n",
    "import numpy as np\n",
    "\n",
    "pd.set_option('display.max_columns', None) # Para mostrar todas as colunas no .describe()"
   ]
  },
  {
   "cell_type": "markdown",
   "id": "7d2dd5ed",
   "metadata": {},
   "source": [
    "#### Leitura do Dataset"
   ]
  },
  {
   "cell_type": "code",
   "execution_count": 2,
   "id": "19e46a14",
   "metadata": {},
   "outputs": [],
   "source": [
    "df_salario = pd.read_csv('Salario/HR_Data_MNC_Data Science Lovers.csv', encoding='latin1')"
   ]
  },
  {
   "cell_type": "markdown",
   "id": "747d17a3",
   "metadata": {},
   "source": [
    "Aplicando Normalização no Salario"
   ]
  },
  {
   "cell_type": "code",
   "execution_count": 4,
   "id": "6e7e6e4b",
   "metadata": {},
   "outputs": [
    {
     "data": {
      "text/html": [
       "<div>\n",
       "<style scoped>\n",
       "    .dataframe tbody tr th:only-of-type {\n",
       "        vertical-align: middle;\n",
       "    }\n",
       "\n",
       "    .dataframe tbody tr th {\n",
       "        vertical-align: top;\n",
       "    }\n",
       "\n",
       "    .dataframe thead th {\n",
       "        text-align: right;\n",
       "    }\n",
       "</style>\n",
       "<table border=\"1\" class=\"dataframe\">\n",
       "  <thead>\n",
       "    <tr style=\"text-align: right;\">\n",
       "      <th></th>\n",
       "      <th>Salary_INR</th>\n",
       "      <th>Salary_Normalized</th>\n",
       "    </tr>\n",
       "  </thead>\n",
       "  <tbody>\n",
       "    <tr>\n",
       "      <th>0</th>\n",
       "      <td>1585363</td>\n",
       "      <td>0.476065</td>\n",
       "    </tr>\n",
       "    <tr>\n",
       "      <th>1</th>\n",
       "      <td>847686</td>\n",
       "      <td>0.202848</td>\n",
       "    </tr>\n",
       "    <tr>\n",
       "      <th>2</th>\n",
       "      <td>1430084</td>\n",
       "      <td>0.418553</td>\n",
       "    </tr>\n",
       "    <tr>\n",
       "      <th>3</th>\n",
       "      <td>990689</td>\n",
       "      <td>0.255813</td>\n",
       "    </tr>\n",
       "    <tr>\n",
       "      <th>4</th>\n",
       "      <td>535082</td>\n",
       "      <td>0.087068</td>\n",
       "    </tr>\n",
       "  </tbody>\n",
       "</table>\n",
       "</div>"
      ],
      "text/plain": [
       "   Salary_INR  Salary_Normalized\n",
       "0     1585363           0.476065\n",
       "1      847686           0.202848\n",
       "2     1430084           0.418553\n",
       "3      990689           0.255813\n",
       "4      535082           0.087068"
      ]
     },
     "execution_count": 4,
     "metadata": {},
     "output_type": "execute_result"
    }
   ],
   "source": [
    "from sklearn.preprocessing import MinMaxScaler\n",
    "\n",
    "# Criar o scaler\n",
    "scaler = MinMaxScaler()\n",
    "\n",
    "# Escolher a coluna de salário (ajuste o nome se for diferente)\n",
    "col_salario = 'Salary_INR'\n",
    "\n",
    "# Adicionar uma nova coluna normalizada\n",
    "df_salario['Salary_Normalized'] = scaler.fit_transform(df_salario[[col_salario]])\n",
    "\n",
    "# Exibir as primeiras linhas para confirmar\n",
    "df_salario[['Salary_INR', 'Salary_Normalized']].head()\n"
   ]
  },
  {
   "cell_type": "code",
   "execution_count": 5,
   "id": "d19bb713",
   "metadata": {},
   "outputs": [
    {
     "data": {
      "text/html": [
       "<div>\n",
       "<style scoped>\n",
       "    .dataframe tbody tr th:only-of-type {\n",
       "        vertical-align: middle;\n",
       "    }\n",
       "\n",
       "    .dataframe tbody tr th {\n",
       "        vertical-align: top;\n",
       "    }\n",
       "\n",
       "    .dataframe thead th {\n",
       "        text-align: right;\n",
       "    }\n",
       "</style>\n",
       "<table border=\"1\" class=\"dataframe\">\n",
       "  <thead>\n",
       "    <tr style=\"text-align: right;\">\n",
       "      <th></th>\n",
       "      <th>Unnamed: 0</th>\n",
       "      <th>Employee_ID</th>\n",
       "      <th>Full_Name</th>\n",
       "      <th>Department</th>\n",
       "      <th>Job_Title</th>\n",
       "      <th>Hire_Date</th>\n",
       "      <th>Location</th>\n",
       "      <th>Performance_Rating</th>\n",
       "      <th>Experience_Years</th>\n",
       "      <th>Status</th>\n",
       "      <th>Work_Mode</th>\n",
       "      <th>Salary_INR</th>\n",
       "      <th>Salary_Normalized</th>\n",
       "    </tr>\n",
       "  </thead>\n",
       "  <tbody>\n",
       "    <tr>\n",
       "      <th>0</th>\n",
       "      <td>0</td>\n",
       "      <td>EMP0000001</td>\n",
       "      <td>Joshua Nguyen</td>\n",
       "      <td>IT</td>\n",
       "      <td>Software Engineer</td>\n",
       "      <td>2011-08-10</td>\n",
       "      <td>Isaacland, Denmark</td>\n",
       "      <td>5</td>\n",
       "      <td>14</td>\n",
       "      <td>Resigned</td>\n",
       "      <td>On-site</td>\n",
       "      <td>1585363</td>\n",
       "      <td>0.476065</td>\n",
       "    </tr>\n",
       "    <tr>\n",
       "      <th>1</th>\n",
       "      <td>1</td>\n",
       "      <td>EMP0000002</td>\n",
       "      <td>Julie Williams</td>\n",
       "      <td>Marketing</td>\n",
       "      <td>SEO Specialist</td>\n",
       "      <td>2018-03-02</td>\n",
       "      <td>Anthonyside, Costa Rica</td>\n",
       "      <td>2</td>\n",
       "      <td>7</td>\n",
       "      <td>Active</td>\n",
       "      <td>On-site</td>\n",
       "      <td>847686</td>\n",
       "      <td>0.202848</td>\n",
       "    </tr>\n",
       "    <tr>\n",
       "      <th>2</th>\n",
       "      <td>2</td>\n",
       "      <td>EMP0000003</td>\n",
       "      <td>Alyssa Martinez</td>\n",
       "      <td>HR</td>\n",
       "      <td>HR Manager</td>\n",
       "      <td>2023-03-20</td>\n",
       "      <td>Port Christinaport, Saudi Arabia</td>\n",
       "      <td>1</td>\n",
       "      <td>2</td>\n",
       "      <td>Active</td>\n",
       "      <td>On-site</td>\n",
       "      <td>1430084</td>\n",
       "      <td>0.418553</td>\n",
       "    </tr>\n",
       "    <tr>\n",
       "      <th>3</th>\n",
       "      <td>3</td>\n",
       "      <td>EMP0000004</td>\n",
       "      <td>Nicholas Valdez</td>\n",
       "      <td>IT</td>\n",
       "      <td>Software Engineer</td>\n",
       "      <td>2023-10-12</td>\n",
       "      <td>Port Shelbychester, Antigua and Barbuda</td>\n",
       "      <td>1</td>\n",
       "      <td>1</td>\n",
       "      <td>Active</td>\n",
       "      <td>On-site</td>\n",
       "      <td>990689</td>\n",
       "      <td>0.255813</td>\n",
       "    </tr>\n",
       "    <tr>\n",
       "      <th>4</th>\n",
       "      <td>4</td>\n",
       "      <td>EMP0000005</td>\n",
       "      <td>Joel Hendricks</td>\n",
       "      <td>Operations</td>\n",
       "      <td>Logistics Coordinator</td>\n",
       "      <td>2024-12-09</td>\n",
       "      <td>Lake Kimberly, Palestinian Territory</td>\n",
       "      <td>5</td>\n",
       "      <td>0</td>\n",
       "      <td>Active</td>\n",
       "      <td>On-site</td>\n",
       "      <td>535082</td>\n",
       "      <td>0.087068</td>\n",
       "    </tr>\n",
       "  </tbody>\n",
       "</table>\n",
       "</div>"
      ],
      "text/plain": [
       "   Unnamed: 0 Employee_ID        Full_Name  Department              Job_Title  \\\n",
       "0           0  EMP0000001    Joshua Nguyen          IT      Software Engineer   \n",
       "1           1  EMP0000002   Julie Williams   Marketing         SEO Specialist   \n",
       "2           2  EMP0000003  Alyssa Martinez          HR             HR Manager   \n",
       "3           3  EMP0000004  Nicholas Valdez          IT      Software Engineer   \n",
       "4           4  EMP0000005   Joel Hendricks  Operations  Logistics Coordinator   \n",
       "\n",
       "    Hire_Date                                 Location  Performance_Rating  \\\n",
       "0  2011-08-10                       Isaacland, Denmark                   5   \n",
       "1  2018-03-02                  Anthonyside, Costa Rica                   2   \n",
       "2  2023-03-20         Port Christinaport, Saudi Arabia                   1   \n",
       "3  2023-10-12  Port Shelbychester, Antigua and Barbuda                   1   \n",
       "4  2024-12-09     Lake Kimberly, Palestinian Territory                   5   \n",
       "\n",
       "   Experience_Years    Status Work_Mode  Salary_INR  Salary_Normalized  \n",
       "0                14  Resigned   On-site     1585363           0.476065  \n",
       "1                 7    Active   On-site      847686           0.202848  \n",
       "2                 2    Active   On-site     1430084           0.418553  \n",
       "3                 1    Active   On-site      990689           0.255813  \n",
       "4                 0    Active   On-site      535082           0.087068  "
      ]
     },
     "execution_count": 5,
     "metadata": {},
     "output_type": "execute_result"
    }
   ],
   "source": [
    "df_salario.head()"
   ]
  },
  {
   "cell_type": "markdown",
   "id": "9394bd4f",
   "metadata": {},
   "source": [
    "## **1. Análise Exploratória dos Dados**"
   ]
  },
  {
   "cell_type": "markdown",
   "id": "7538b57f",
   "metadata": {},
   "source": [
    "PLACEHOLDER"
   ]
  },
  {
   "cell_type": "markdown",
   "id": "9a83072f",
   "metadata": {},
   "source": [
    "O grupo iniciou utilizando a função .info() do dataframe, para verificar contagem total de valores não nulos e o tipo de dado de cada coluna."
   ]
  },
  {
   "cell_type": "code",
   "execution_count": 6,
   "id": "0bc45d3a",
   "metadata": {},
   "outputs": [
    {
     "name": "stdout",
     "output_type": "stream",
     "text": [
      "<class 'pandas.core.frame.DataFrame'>\n",
      "RangeIndex: 2000000 entries, 0 to 1999999\n",
      "Data columns (total 13 columns):\n",
      " #   Column              Non-Null Count    Dtype  \n",
      "---  ------              --------------    -----  \n",
      " 0   Unnamed: 0          2000000 non-null  int64  \n",
      " 1   Employee_ID         2000000 non-null  object \n",
      " 2   Full_Name           2000000 non-null  object \n",
      " 3   Department          2000000 non-null  object \n",
      " 4   Job_Title           2000000 non-null  object \n",
      " 5   Hire_Date           2000000 non-null  object \n",
      " 6   Location            2000000 non-null  object \n",
      " 7   Performance_Rating  2000000 non-null  int64  \n",
      " 8   Experience_Years    2000000 non-null  int64  \n",
      " 9   Status              2000000 non-null  object \n",
      " 10  Work_Mode           2000000 non-null  object \n",
      " 11  Salary_INR          2000000 non-null  int64  \n",
      " 12  Salary_Normalized   2000000 non-null  float64\n",
      "dtypes: float64(1), int64(4), object(8)\n",
      "memory usage: 198.4+ MB\n"
     ]
    }
   ],
   "source": [
    "df_salario.info(show_counts=True)"
   ]
  },
  {
   "cell_type": "code",
   "execution_count": 7,
   "id": "858d574e",
   "metadata": {},
   "outputs": [
    {
     "data": {
      "text/html": [
       "<div>\n",
       "<style scoped>\n",
       "    .dataframe tbody tr th:only-of-type {\n",
       "        vertical-align: middle;\n",
       "    }\n",
       "\n",
       "    .dataframe tbody tr th {\n",
       "        vertical-align: top;\n",
       "    }\n",
       "\n",
       "    .dataframe thead th {\n",
       "        text-align: right;\n",
       "    }\n",
       "</style>\n",
       "<table border=\"1\" class=\"dataframe\">\n",
       "  <thead>\n",
       "    <tr style=\"text-align: right;\">\n",
       "      <th></th>\n",
       "      <th>Unnamed: 0</th>\n",
       "      <th>Employee_ID</th>\n",
       "      <th>Full_Name</th>\n",
       "      <th>Department</th>\n",
       "      <th>Job_Title</th>\n",
       "      <th>Hire_Date</th>\n",
       "      <th>Location</th>\n",
       "      <th>Performance_Rating</th>\n",
       "      <th>Experience_Years</th>\n",
       "      <th>Status</th>\n",
       "      <th>Work_Mode</th>\n",
       "      <th>Salary_INR</th>\n",
       "      <th>Salary_Normalized</th>\n",
       "    </tr>\n",
       "  </thead>\n",
       "  <tbody>\n",
       "    <tr>\n",
       "      <th>count</th>\n",
       "      <td>2.000000e+06</td>\n",
       "      <td>2000000</td>\n",
       "      <td>2000000</td>\n",
       "      <td>2000000</td>\n",
       "      <td>2000000</td>\n",
       "      <td>2000000</td>\n",
       "      <td>2000000</td>\n",
       "      <td>2.000000e+06</td>\n",
       "      <td>2.000000e+06</td>\n",
       "      <td>2000000</td>\n",
       "      <td>2000000</td>\n",
       "      <td>2.000000e+06</td>\n",
       "      <td>2.000000e+06</td>\n",
       "    </tr>\n",
       "    <tr>\n",
       "      <th>unique</th>\n",
       "      <td>NaN</td>\n",
       "      <td>2000000</td>\n",
       "      <td>467487</td>\n",
       "      <td>7</td>\n",
       "      <td>29</td>\n",
       "      <td>5479</td>\n",
       "      <td>1593497</td>\n",
       "      <td>NaN</td>\n",
       "      <td>NaN</td>\n",
       "      <td>4</td>\n",
       "      <td>2</td>\n",
       "      <td>NaN</td>\n",
       "      <td>NaN</td>\n",
       "    </tr>\n",
       "    <tr>\n",
       "      <th>top</th>\n",
       "      <td>NaN</td>\n",
       "      <td>EMP0000001</td>\n",
       "      <td>Michael Smith</td>\n",
       "      <td>IT</td>\n",
       "      <td>Software Engineer</td>\n",
       "      <td>2022-10-31</td>\n",
       "      <td>Lake Michael, Congo</td>\n",
       "      <td>NaN</td>\n",
       "      <td>NaN</td>\n",
       "      <td>Active</td>\n",
       "      <td>On-site</td>\n",
       "      <td>NaN</td>\n",
       "      <td>NaN</td>\n",
       "    </tr>\n",
       "    <tr>\n",
       "      <th>freq</th>\n",
       "      <td>NaN</td>\n",
       "      <td>1</td>\n",
       "      <td>1014</td>\n",
       "      <td>601042</td>\n",
       "      <td>300358</td>\n",
       "      <td>622</td>\n",
       "      <td>20</td>\n",
       "      <td>NaN</td>\n",
       "      <td>NaN</td>\n",
       "      <td>1401558</td>\n",
       "      <td>1199109</td>\n",
       "      <td>NaN</td>\n",
       "      <td>NaN</td>\n",
       "    </tr>\n",
       "    <tr>\n",
       "      <th>mean</th>\n",
       "      <td>9.999995e+05</td>\n",
       "      <td>NaN</td>\n",
       "      <td>NaN</td>\n",
       "      <td>NaN</td>\n",
       "      <td>NaN</td>\n",
       "      <td>NaN</td>\n",
       "      <td>NaN</td>\n",
       "      <td>3.000148e+00</td>\n",
       "      <td>5.010287e+00</td>\n",
       "      <td>NaN</td>\n",
       "      <td>NaN</td>\n",
       "      <td>8.968878e+05</td>\n",
       "      <td>2.210715e-01</td>\n",
       "    </tr>\n",
       "    <tr>\n",
       "      <th>std</th>\n",
       "      <td>5.773504e+05</td>\n",
       "      <td>NaN</td>\n",
       "      <td>NaN</td>\n",
       "      <td>NaN</td>\n",
       "      <td>NaN</td>\n",
       "      <td>NaN</td>\n",
       "      <td>NaN</td>\n",
       "      <td>1.413973e+00</td>\n",
       "      <td>3.608823e+00</td>\n",
       "      <td>NaN</td>\n",
       "      <td>NaN</td>\n",
       "      <td>4.026103e+05</td>\n",
       "      <td>1.491163e-01</td>\n",
       "    </tr>\n",
       "    <tr>\n",
       "      <th>min</th>\n",
       "      <td>0.000000e+00</td>\n",
       "      <td>NaN</td>\n",
       "      <td>NaN</td>\n",
       "      <td>NaN</td>\n",
       "      <td>NaN</td>\n",
       "      <td>NaN</td>\n",
       "      <td>NaN</td>\n",
       "      <td>1.000000e+00</td>\n",
       "      <td>0.000000e+00</td>\n",
       "      <td>NaN</td>\n",
       "      <td>NaN</td>\n",
       "      <td>3.000000e+05</td>\n",
       "      <td>0.000000e+00</td>\n",
       "    </tr>\n",
       "    <tr>\n",
       "      <th>25%</th>\n",
       "      <td>4.999998e+05</td>\n",
       "      <td>NaN</td>\n",
       "      <td>NaN</td>\n",
       "      <td>NaN</td>\n",
       "      <td>NaN</td>\n",
       "      <td>NaN</td>\n",
       "      <td>NaN</td>\n",
       "      <td>2.000000e+00</td>\n",
       "      <td>2.000000e+00</td>\n",
       "      <td>NaN</td>\n",
       "      <td>NaN</td>\n",
       "      <td>6.163460e+05</td>\n",
       "      <td>1.171662e-01</td>\n",
       "    </tr>\n",
       "    <tr>\n",
       "      <th>50%</th>\n",
       "      <td>9.999995e+05</td>\n",
       "      <td>NaN</td>\n",
       "      <td>NaN</td>\n",
       "      <td>NaN</td>\n",
       "      <td>NaN</td>\n",
       "      <td>NaN</td>\n",
       "      <td>NaN</td>\n",
       "      <td>3.000000e+00</td>\n",
       "      <td>5.000000e+00</td>\n",
       "      <td>NaN</td>\n",
       "      <td>NaN</td>\n",
       "      <td>8.110265e+05</td>\n",
       "      <td>1.892708e-01</td>\n",
       "    </tr>\n",
       "    <tr>\n",
       "      <th>75%</th>\n",
       "      <td>1.499999e+06</td>\n",
       "      <td>NaN</td>\n",
       "      <td>NaN</td>\n",
       "      <td>NaN</td>\n",
       "      <td>NaN</td>\n",
       "      <td>NaN</td>\n",
       "      <td>NaN</td>\n",
       "      <td>4.000000e+00</td>\n",
       "      <td>8.000000e+00</td>\n",
       "      <td>NaN</td>\n",
       "      <td>NaN</td>\n",
       "      <td>1.073745e+06</td>\n",
       "      <td>2.865749e-01</td>\n",
       "    </tr>\n",
       "    <tr>\n",
       "      <th>max</th>\n",
       "      <td>1.999999e+06</td>\n",
       "      <td>NaN</td>\n",
       "      <td>NaN</td>\n",
       "      <td>NaN</td>\n",
       "      <td>NaN</td>\n",
       "      <td>NaN</td>\n",
       "      <td>NaN</td>\n",
       "      <td>5.000000e+00</td>\n",
       "      <td>1.500000e+01</td>\n",
       "      <td>NaN</td>\n",
       "      <td>NaN</td>\n",
       "      <td>2.999976e+06</td>\n",
       "      <td>1.000000e+00</td>\n",
       "    </tr>\n",
       "  </tbody>\n",
       "</table>\n",
       "</div>"
      ],
      "text/plain": [
       "          Unnamed: 0 Employee_ID      Full_Name Department          Job_Title  \\\n",
       "count   2.000000e+06     2000000        2000000    2000000            2000000   \n",
       "unique           NaN     2000000         467487          7                 29   \n",
       "top              NaN  EMP0000001  Michael Smith         IT  Software Engineer   \n",
       "freq             NaN           1           1014     601042             300358   \n",
       "mean    9.999995e+05         NaN            NaN        NaN                NaN   \n",
       "std     5.773504e+05         NaN            NaN        NaN                NaN   \n",
       "min     0.000000e+00         NaN            NaN        NaN                NaN   \n",
       "25%     4.999998e+05         NaN            NaN        NaN                NaN   \n",
       "50%     9.999995e+05         NaN            NaN        NaN                NaN   \n",
       "75%     1.499999e+06         NaN            NaN        NaN                NaN   \n",
       "max     1.999999e+06         NaN            NaN        NaN                NaN   \n",
       "\n",
       "         Hire_Date             Location  Performance_Rating  Experience_Years  \\\n",
       "count      2000000              2000000        2.000000e+06      2.000000e+06   \n",
       "unique        5479              1593497                 NaN               NaN   \n",
       "top     2022-10-31  Lake Michael, Congo                 NaN               NaN   \n",
       "freq           622                   20                 NaN               NaN   \n",
       "mean           NaN                  NaN        3.000148e+00      5.010287e+00   \n",
       "std            NaN                  NaN        1.413973e+00      3.608823e+00   \n",
       "min            NaN                  NaN        1.000000e+00      0.000000e+00   \n",
       "25%            NaN                  NaN        2.000000e+00      2.000000e+00   \n",
       "50%            NaN                  NaN        3.000000e+00      5.000000e+00   \n",
       "75%            NaN                  NaN        4.000000e+00      8.000000e+00   \n",
       "max            NaN                  NaN        5.000000e+00      1.500000e+01   \n",
       "\n",
       "         Status Work_Mode    Salary_INR  Salary_Normalized  \n",
       "count   2000000   2000000  2.000000e+06       2.000000e+06  \n",
       "unique        4         2           NaN                NaN  \n",
       "top      Active   On-site           NaN                NaN  \n",
       "freq    1401558   1199109           NaN                NaN  \n",
       "mean        NaN       NaN  8.968878e+05       2.210715e-01  \n",
       "std         NaN       NaN  4.026103e+05       1.491163e-01  \n",
       "min         NaN       NaN  3.000000e+05       0.000000e+00  \n",
       "25%         NaN       NaN  6.163460e+05       1.171662e-01  \n",
       "50%         NaN       NaN  8.110265e+05       1.892708e-01  \n",
       "75%         NaN       NaN  1.073745e+06       2.865749e-01  \n",
       "max         NaN       NaN  2.999976e+06       1.000000e+00  "
      ]
     },
     "execution_count": 7,
     "metadata": {},
     "output_type": "execute_result"
    }
   ],
   "source": [
    "df_salario.describe(include='all')"
   ]
  },
  {
   "cell_type": "code",
   "execution_count": 8,
   "id": "3cee3fa2",
   "metadata": {},
   "outputs": [
    {
     "data": {
      "text/html": [
       "<style type=\"text/css\">\n",
       "#T_6611f_row0_col0, #T_6611f_row1_col1, #T_6611f_row2_col2, #T_6611f_row3_col3, #T_6611f_row3_col4, #T_6611f_row4_col3, #T_6611f_row4_col4 {\n",
       "  background-color: #fcfdbf;\n",
       "  color: #000000;\n",
       "}\n",
       "#T_6611f_row0_col1, #T_6611f_row0_col2, #T_6611f_row0_col3, #T_6611f_row0_col4, #T_6611f_row1_col0, #T_6611f_row1_col2, #T_6611f_row1_col3, #T_6611f_row1_col4, #T_6611f_row2_col0, #T_6611f_row2_col1, #T_6611f_row2_col3, #T_6611f_row2_col4, #T_6611f_row3_col0, #T_6611f_row3_col1, #T_6611f_row3_col2, #T_6611f_row4_col0, #T_6611f_row4_col1, #T_6611f_row4_col2 {\n",
       "  background-color: #000004;\n",
       "  color: #f1f1f1;\n",
       "}\n",
       "</style>\n",
       "<table id=\"T_6611f\">\n",
       "  <thead>\n",
       "    <tr>\n",
       "      <th class=\"blank level0\" >&nbsp;</th>\n",
       "      <th id=\"T_6611f_level0_col0\" class=\"col_heading level0 col0\" >Unnamed: 0</th>\n",
       "      <th id=\"T_6611f_level0_col1\" class=\"col_heading level0 col1\" >Performance_Rating</th>\n",
       "      <th id=\"T_6611f_level0_col2\" class=\"col_heading level0 col2\" >Experience_Years</th>\n",
       "      <th id=\"T_6611f_level0_col3\" class=\"col_heading level0 col3\" >Salary_INR</th>\n",
       "      <th id=\"T_6611f_level0_col4\" class=\"col_heading level0 col4\" >Salary_Normalized</th>\n",
       "    </tr>\n",
       "  </thead>\n",
       "  <tbody>\n",
       "    <tr>\n",
       "      <th id=\"T_6611f_level0_row0\" class=\"row_heading level0 row0\" >Unnamed: 0</th>\n",
       "      <td id=\"T_6611f_row0_col0\" class=\"data row0 col0\" >1.000000</td>\n",
       "      <td id=\"T_6611f_row0_col1\" class=\"data row0 col1\" >0.000786</td>\n",
       "      <td id=\"T_6611f_row0_col2\" class=\"data row0 col2\" >0.000349</td>\n",
       "      <td id=\"T_6611f_row0_col3\" class=\"data row0 col3\" >-0.000683</td>\n",
       "      <td id=\"T_6611f_row0_col4\" class=\"data row0 col4\" >-0.000683</td>\n",
       "    </tr>\n",
       "    <tr>\n",
       "      <th id=\"T_6611f_level0_row1\" class=\"row_heading level0 row1\" >Performance_Rating</th>\n",
       "      <td id=\"T_6611f_row1_col0\" class=\"data row1 col0\" >0.000786</td>\n",
       "      <td id=\"T_6611f_row1_col1\" class=\"data row1 col1\" >1.000000</td>\n",
       "      <td id=\"T_6611f_row1_col2\" class=\"data row1 col2\" >-0.000283</td>\n",
       "      <td id=\"T_6611f_row1_col3\" class=\"data row1 col3\" >-0.000209</td>\n",
       "      <td id=\"T_6611f_row1_col4\" class=\"data row1 col4\" >-0.000209</td>\n",
       "    </tr>\n",
       "    <tr>\n",
       "      <th id=\"T_6611f_level0_row2\" class=\"row_heading level0 row2\" >Experience_Years</th>\n",
       "      <td id=\"T_6611f_row2_col0\" class=\"data row2 col0\" >0.000349</td>\n",
       "      <td id=\"T_6611f_row2_col1\" class=\"data row2 col1\" >-0.000283</td>\n",
       "      <td id=\"T_6611f_row2_col2\" class=\"data row2 col2\" >1.000000</td>\n",
       "      <td id=\"T_6611f_row2_col3\" class=\"data row2 col3\" >0.000796</td>\n",
       "      <td id=\"T_6611f_row2_col4\" class=\"data row2 col4\" >0.000796</td>\n",
       "    </tr>\n",
       "    <tr>\n",
       "      <th id=\"T_6611f_level0_row3\" class=\"row_heading level0 row3\" >Salary_INR</th>\n",
       "      <td id=\"T_6611f_row3_col0\" class=\"data row3 col0\" >-0.000683</td>\n",
       "      <td id=\"T_6611f_row3_col1\" class=\"data row3 col1\" >-0.000209</td>\n",
       "      <td id=\"T_6611f_row3_col2\" class=\"data row3 col2\" >0.000796</td>\n",
       "      <td id=\"T_6611f_row3_col3\" class=\"data row3 col3\" >1.000000</td>\n",
       "      <td id=\"T_6611f_row3_col4\" class=\"data row3 col4\" >1.000000</td>\n",
       "    </tr>\n",
       "    <tr>\n",
       "      <th id=\"T_6611f_level0_row4\" class=\"row_heading level0 row4\" >Salary_Normalized</th>\n",
       "      <td id=\"T_6611f_row4_col0\" class=\"data row4 col0\" >-0.000683</td>\n",
       "      <td id=\"T_6611f_row4_col1\" class=\"data row4 col1\" >-0.000209</td>\n",
       "      <td id=\"T_6611f_row4_col2\" class=\"data row4 col2\" >0.000796</td>\n",
       "      <td id=\"T_6611f_row4_col3\" class=\"data row4 col3\" >1.000000</td>\n",
       "      <td id=\"T_6611f_row4_col4\" class=\"data row4 col4\" >1.000000</td>\n",
       "    </tr>\n",
       "  </tbody>\n",
       "</table>\n"
      ],
      "text/plain": [
       "<pandas.io.formats.style.Styler at 0x7e5d381ce8a0>"
      ]
     },
     "execution_count": 8,
     "metadata": {},
     "output_type": "execute_result"
    }
   ],
   "source": [
    "df_salario.corr(numeric_only=True).style.background_gradient(cmap= 'magma')"
   ]
  },
  {
   "cell_type": "markdown",
   "id": "fca56c33",
   "metadata": {},
   "source": [
    "Análise de valores ausentes e duplicados"
   ]
  },
  {
   "cell_type": "code",
   "execution_count": 10,
   "id": "72fece54",
   "metadata": {},
   "outputs": [
    {
     "name": "stdout",
     "output_type": "stream",
     "text": [
      "Valores ausentes por coluna:\n",
      "Unnamed: 0            0\n",
      "Employee_ID           0\n",
      "Full_Name             0\n",
      "Department            0\n",
      "Job_Title             0\n",
      "Hire_Date             0\n",
      "Location              0\n",
      "Performance_Rating    0\n",
      "Experience_Years      0\n",
      "Status                0\n",
      "Work_Mode             0\n",
      "Salary_INR            0\n",
      "Salary_Normalized     0\n",
      "dtype: int64\n",
      "\n",
      "Total de linhas duplicadas: 0\n"
     ]
    }
   ],
   "source": [
    "print(\"Valores ausentes por coluna:\")\n",
    "print(df_salario.isnull().sum())\n",
    "\n",
    "duplicadas = df_salario.duplicated().sum()\n",
    "print(f\"\\nTotal de linhas duplicadas: {duplicadas}\")\n"
   ]
  },
  {
   "cell_type": "markdown",
   "id": "a3228fcf",
   "metadata": {},
   "source": [
    "Distribuição das variáveis numéricas"
   ]
  },
  {
   "cell_type": "code",
   "execution_count": 11,
   "id": "9ec053c0",
   "metadata": {},
   "outputs": [
    {
     "data": {
      "image/png": "[encoded data removed]",
      "text/plain": [
       "<Figure size 1500x800 with 6 Axes>"
      ]
     },
     "metadata": {},
     "output_type": "display_data"
    }
   ],
   "source": [
    "import matplotlib.pyplot as plt\n",
    "import seaborn as sns\n",
    "\n",
    "df_salario.hist(bins=20, figsize=(15, 8), color='steelblue', edgecolor='black')\n",
    "plt.suptitle('Distribuição das variáveis numéricas', fontsize=16)\n",
    "plt.show()\n"
   ]
  },
  {
   "cell_type": "markdown",
   "id": "820db5c9",
   "metadata": {},
   "source": [
    "Boxplots do salário por categoria"
   ]
  },
  {
   "cell_type": "code",
   "execution_count": null,
   "id": "be634a7c",
   "metadata": {},
   "outputs": [
    {
     "data": {
      "image/png": "[encoded data removed]",
      "text/plain": [
       "<Figure size 1000x500 with 1 Axes>"
      ]
     },
     "metadata": {},
     "output_type": "display_data"
    }
   ],
   "source": [
    "col_salario = 'Salary_Normalized'\n",
    "\n",
    "categoricas = [\"Department\",\n",
    "               #\"Job_Title\", \n",
    "               #\"Hire_Date\", \n",
    "               \"Location\", \n",
    "               #\"Performance_Rating\",\n",
    "               #\"ArithmeticError\",\n",
    "               \"Experience_Years\", \n",
    "               \"Status\", \n",
    "               \"Work_Mode\"]\n",
    "for col in categoricas:\n",
    "    if col in df_salario.columns:\n",
    "        plt.figure(figsize=(10, 5))\n",
    "        sns.boxplot(x=col, y=col_salario, data=df_salario)\n",
    "        plt.title(f'Salário por {col}')\n",
    "        plt.xticks(rotation=45)\n",
    "        plt.show()\n"
   ]
  },
  {
   "cell_type": "markdown",
   "id": "136fc93a",
   "metadata": {},
   "source": [
    "Correlação entre variáveis numéricas"
   ]
  },
  {
   "cell_type": "code",
   "execution_count": null,
   "id": "020a1483",
   "metadata": {},
   "outputs": [
    {
     "ename": "NameError",
     "evalue": "name 'plt' is not defined",
     "output_type": "error",
     "traceback": [
      "\u001b[31m---------------------------------------------------------------------------\u001b[39m",
      "\u001b[31mNameError\u001b[39m                                 Traceback (most recent call last)",
      "\u001b[36mCell\u001b[39m\u001b[36m \u001b[39m\u001b[32mIn[10]\u001b[39m\u001b[32m, line 1\u001b[39m\n\u001b[32m----> \u001b[39m\u001b[32m1\u001b[39m \u001b[43mplt\u001b[49m.figure(figsize=(\u001b[32m10\u001b[39m, \u001b[32m6\u001b[39m))\n\u001b[32m      2\u001b[39m sns.heatmap(df_salario.corr(numeric_only=\u001b[38;5;28;01mTrue\u001b[39;00m), annot=\u001b[38;5;28;01mTrue\u001b[39;00m, cmap=\u001b[33m'\u001b[39m\u001b[33mcoolwarm\u001b[39m\u001b[33m'\u001b[39m, fmt=\u001b[33m\"\u001b[39m\u001b[33m.2f\u001b[39m\u001b[33m\"\u001b[39m)\n\u001b[32m      3\u001b[39m plt.title(\u001b[33m'\u001b[39m\u001b[33mMapa de correlação entre variáveis numéricas\u001b[39m\u001b[33m'\u001b[39m)\n",
      "\u001b[31mNameError\u001b[39m: name 'plt' is not defined"
     ]
    }
   ],
   "source": [
    "plt.figure(figsize=(10, 6))\n",
    "sns.heatmap(df_salario.corr(numeric_only=True), annot=True, cmap='coolwarm', fmt=\".2f\")\n",
    "plt.title('Mapa de correlação entre variáveis numéricas')\n",
    "plt.show()\n"
   ]
  },
  {
   "cell_type": "markdown",
   "id": "031bf7fe",
   "metadata": {},
   "source": [
    "Médias salariais por categoria"
   ]
  },
  {
   "cell_type": "code",
   "execution_count": null,
   "id": "63dfea08",
   "metadata": {},
   "outputs": [
    {
     "name": "stdout",
     "output_type": "stream",
     "text": [
      "Média salarial por Cargo:\n",
      "Job_Title\n",
      "IT Manager                       2.098156e+06\n",
      "Finance Manager                  1.743242e+06\n",
      "HR Manager                       1.252402e+06\n",
      "Business Development Manager     1.252016e+06\n",
      "Software Engineer                1.199261e+06\n",
      "Financial Analyst                1.051523e+06\n",
      "Brand Manager                    8.031278e+05\n",
      "Innovation Manager               8.018701e+05\n",
      "Talent Acquisition Specialist    8.014222e+05\n",
      "CTO                              8.014028e+05\n",
      "Name: Salary_INR, dtype: float64\n",
      "\n",
      "Média salarial por Departamento:\n",
      "Department\n",
      "IT            1.129858e+06\n",
      "Finance       9.404117e+05\n",
      "R&D           8.003772e+05\n",
      "Sales         7.929579e+05\n",
      "Marketing     7.699362e+05\n",
      "Operations    7.546263e+05\n",
      "HR            7.438536e+05\n",
      "Name: Salary_INR, dtype: float64\n"
     ]
    }
   ],
   "source": [
    "if 'Job_Title' in df_salario.columns and 'Department' in df_salario.columns:\n",
    "    print(\"Média salarial por Cargo:\")\n",
    "    print(df_salario.groupby('Job_Title')['Salary_INR'].mean().sort_values(ascending=False).head(10))\n",
    "    \n",
    "    print(\"\\nMédia salarial por Departamento:\")\n",
    "    print(df_salario.groupby('Department')['Salary_INR'].mean().sort_values(ascending=False).head(10))\n"
   ]
  }
 ],
 "metadata": {
  "kernelspec": {
   "display_name": "IA (3.12.3)",
   "language": "python",
   "name": "python3"
  },
  "language_info": {
   "codemirror_mode": {
    "name": "ipython",
    "version": 3
   },
   "file_extension": ".py",
   "mimetype": "text/x-python",
   "name": "python",
   "nbconvert_exporter": "python",
   "pygments_lexer": "ipython3",
   "version": "3.12.3"
  }
 },
 "nbformat": 4,
 "nbformat_minor": 5
}
