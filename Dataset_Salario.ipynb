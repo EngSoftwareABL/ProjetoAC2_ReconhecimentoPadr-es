{
 "cells": [
  {
   "cell_type": "markdown",
   "id": "19f30dd0",
   "metadata": {},
   "source": [
    "# **Dataset - HR Data MNC (Regressão)**"
   ]
  },
  {
   "cell_type": "markdown",
   "id": "5d674b52",
   "metadata": {},
   "source": [
    "O objetivo do grupo ao analisar esse dataset é, por meio dos dados de Recursos Humanos de uma multinacional, descobrir qual o salário dos funcionários."
   ]
  },
  {
   "cell_type": "markdown",
   "id": "502cfc07",
   "metadata": {},
   "source": [
    "## **1. Inserção das bibliotecas e leitura dos arquivos**"
   ]
  },
  {
   "cell_type": "markdown",
   "id": "2b7e1039",
   "metadata": {},
   "source": [
    "Nessa etapa será feita a leitura do arquivo (dataset) a ser analisado pelo grupo, além da criação do dataframe."
   ]
  },
  {
   "cell_type": "markdown",
   "id": "6dd6dab4",
   "metadata": {},
   "source": [
    "#### Imports Python"
   ]
  },
  {
   "cell_type": "code",
   "execution_count": 1,
   "id": "472ad2fd",
   "metadata": {},
   "outputs": [],
   "source": [
    "import pandas as pd\n",
    "import numpy as np\n",
    "\n",
    "pd.set_option('display.max_columns', None) # Para mostrar todas as colunas no .describe()"
   ]
  },
  {
   "cell_type": "markdown",
   "id": "7d2dd5ed",
   "metadata": {},
   "source": [
    "#### Leitura do Dataset"
   ]
  },
  {
   "cell_type": "code",
   "execution_count": 2,
   "id": "19e46a14",
   "metadata": {},
   "outputs": [],
   "source": [
    "df_salario = pd.read_csv('Salario/HR_Data_MNC_Data Science Lovers.csv', encoding='latin1')\n",
    "df_final = df_salario # dataframe para utilizar em pré processamento e predições"
   ]
  },
  {
   "cell_type": "code",
   "execution_count": 3,
   "id": "d19bb713",
   "metadata": {},
   "outputs": [
    {
     "data": {
      "text/html": [
       "<div>\n",
       "<style scoped>\n",
       "    .dataframe tbody tr th:only-of-type {\n",
       "        vertical-align: middle;\n",
       "    }\n",
       "\n",
       "    .dataframe tbody tr th {\n",
       "        vertical-align: top;\n",
       "    }\n",
       "\n",
       "    .dataframe thead th {\n",
       "        text-align: right;\n",
       "    }\n",
       "</style>\n",
       "<table border=\"1\" class=\"dataframe\">\n",
       "  <thead>\n",
       "    <tr style=\"text-align: right;\">\n",
       "      <th></th>\n",
       "      <th>Unnamed: 0</th>\n",
       "      <th>Employee_ID</th>\n",
       "      <th>Full_Name</th>\n",
       "      <th>Department</th>\n",
       "      <th>Job_Title</th>\n",
       "      <th>Hire_Date</th>\n",
       "      <th>Location</th>\n",
       "      <th>Performance_Rating</th>\n",
       "      <th>Experience_Years</th>\n",
       "      <th>Status</th>\n",
       "      <th>Work_Mode</th>\n",
       "      <th>Salary_INR</th>\n",
       "    </tr>\n",
       "  </thead>\n",
       "  <tbody>\n",
       "    <tr>\n",
       "      <th>0</th>\n",
       "      <td>0</td>\n",
       "      <td>EMP0000001</td>\n",
       "      <td>Joshua Nguyen</td>\n",
       "      <td>IT</td>\n",
       "      <td>Software Engineer</td>\n",
       "      <td>2011-08-10</td>\n",
       "      <td>Isaacland, Denmark</td>\n",
       "      <td>5</td>\n",
       "      <td>14</td>\n",
       "      <td>Resigned</td>\n",
       "      <td>On-site</td>\n",
       "      <td>1585363</td>\n",
       "    </tr>\n",
       "    <tr>\n",
       "      <th>1</th>\n",
       "      <td>1</td>\n",
       "      <td>EMP0000002</td>\n",
       "      <td>Julie Williams</td>\n",
       "      <td>Marketing</td>\n",
       "      <td>SEO Specialist</td>\n",
       "      <td>2018-03-02</td>\n",
       "      <td>Anthonyside, Costa Rica</td>\n",
       "      <td>2</td>\n",
       "      <td>7</td>\n",
       "      <td>Active</td>\n",
       "      <td>On-site</td>\n",
       "      <td>847686</td>\n",
       "    </tr>\n",
       "    <tr>\n",
       "      <th>2</th>\n",
       "      <td>2</td>\n",
       "      <td>EMP0000003</td>\n",
       "      <td>Alyssa Martinez</td>\n",
       "      <td>HR</td>\n",
       "      <td>HR Manager</td>\n",
       "      <td>2023-03-20</td>\n",
       "      <td>Port Christinaport, Saudi Arabia</td>\n",
       "      <td>1</td>\n",
       "      <td>2</td>\n",
       "      <td>Active</td>\n",
       "      <td>On-site</td>\n",
       "      <td>1430084</td>\n",
       "    </tr>\n",
       "    <tr>\n",
       "      <th>3</th>\n",
       "      <td>3</td>\n",
       "      <td>EMP0000004</td>\n",
       "      <td>Nicholas Valdez</td>\n",
       "      <td>IT</td>\n",
       "      <td>Software Engineer</td>\n",
       "      <td>2023-10-12</td>\n",
       "      <td>Port Shelbychester, Antigua and Barbuda</td>\n",
       "      <td>1</td>\n",
       "      <td>1</td>\n",
       "      <td>Active</td>\n",
       "      <td>On-site</td>\n",
       "      <td>990689</td>\n",
       "    </tr>\n",
       "    <tr>\n",
       "      <th>4</th>\n",
       "      <td>4</td>\n",
       "      <td>EMP0000005</td>\n",
       "      <td>Joel Hendricks</td>\n",
       "      <td>Operations</td>\n",
       "      <td>Logistics Coordinator</td>\n",
       "      <td>2024-12-09</td>\n",
       "      <td>Lake Kimberly, Palestinian Territory</td>\n",
       "      <td>5</td>\n",
       "      <td>0</td>\n",
       "      <td>Active</td>\n",
       "      <td>On-site</td>\n",
       "      <td>535082</td>\n",
       "    </tr>\n",
       "  </tbody>\n",
       "</table>\n",
       "</div>"
      ],
      "text/plain": [
       "   Unnamed: 0 Employee_ID        Full_Name  Department              Job_Title  \\\n",
       "0           0  EMP0000001    Joshua Nguyen          IT      Software Engineer   \n",
       "1           1  EMP0000002   Julie Williams   Marketing         SEO Specialist   \n",
       "2           2  EMP0000003  Alyssa Martinez          HR             HR Manager   \n",
       "3           3  EMP0000004  Nicholas Valdez          IT      Software Engineer   \n",
       "4           4  EMP0000005   Joel Hendricks  Operations  Logistics Coordinator   \n",
       "\n",
       "    Hire_Date                                 Location  Performance_Rating  \\\n",
       "0  2011-08-10                       Isaacland, Denmark                   5   \n",
       "1  2018-03-02                  Anthonyside, Costa Rica                   2   \n",
       "2  2023-03-20         Port Christinaport, Saudi Arabia                   1   \n",
       "3  2023-10-12  Port Shelbychester, Antigua and Barbuda                   1   \n",
       "4  2024-12-09     Lake Kimberly, Palestinian Territory                   5   \n",
       "\n",
       "   Experience_Years    Status Work_Mode  Salary_INR  \n",
       "0                14  Resigned   On-site     1585363  \n",
       "1                 7    Active   On-site      847686  \n",
       "2                 2    Active   On-site     1430084  \n",
       "3                 1    Active   On-site      990689  \n",
       "4                 0    Active   On-site      535082  "
      ]
     },
     "execution_count": 3,
     "metadata": {},
     "output_type": "execute_result"
    }
   ],
   "source": [
    "df_salario.head()"
   ]
  },
  {
   "cell_type": "markdown",
   "id": "9394bd4f",
   "metadata": {},
   "source": [
    "## **2. Análise Exploratória dos Dados**"
   ]
  },
  {
   "cell_type": "markdown",
   "id": "7538b57f",
   "metadata": {},
   "source": [
    "PLACEHOLDER"
   ]
  },
  {
   "cell_type": "markdown",
   "id": "9a83072f",
   "metadata": {},
   "source": [
    "O grupo iniciou utilizando a função .info() do dataframe, para verificar contagem total de valores não nulos e o tipo de dado de cada coluna."
   ]
  },
  {
   "cell_type": "code",
   "execution_count": 4,
   "id": "0bc45d3a",
   "metadata": {},
   "outputs": [
    {
     "name": "stdout",
     "output_type": "stream",
     "text": [
      "<class 'pandas.core.frame.DataFrame'>\n",
      "RangeIndex: 2000000 entries, 0 to 1999999\n",
      "Data columns (total 12 columns):\n",
      " #   Column              Non-Null Count    Dtype \n",
      "---  ------              --------------    ----- \n",
      " 0   Unnamed: 0          2000000 non-null  int64 \n",
      " 1   Employee_ID         2000000 non-null  object\n",
      " 2   Full_Name           2000000 non-null  object\n",
      " 3   Department          2000000 non-null  object\n",
      " 4   Job_Title           2000000 non-null  object\n",
      " 5   Hire_Date           2000000 non-null  object\n",
      " 6   Location            2000000 non-null  object\n",
      " 7   Performance_Rating  2000000 non-null  int64 \n",
      " 8   Experience_Years    2000000 non-null  int64 \n",
      " 9   Status              2000000 non-null  object\n",
      " 10  Work_Mode           2000000 non-null  object\n",
      " 11  Salary_INR          2000000 non-null  int64 \n",
      "dtypes: int64(4), object(8)\n",
      "memory usage: 183.1+ MB\n"
     ]
    }
   ],
   "source": [
    "df_salario.info(show_counts=True)"
   ]
  },
  {
   "cell_type": "code",
   "execution_count": 5,
   "id": "858d574e",
   "metadata": {},
   "outputs": [
    {
     "data": {
      "text/html": [
       "<div>\n",
       "<style scoped>\n",
       "    .dataframe tbody tr th:only-of-type {\n",
       "        vertical-align: middle;\n",
       "    }\n",
       "\n",
       "    .dataframe tbody tr th {\n",
       "        vertical-align: top;\n",
       "    }\n",
       "\n",
       "    .dataframe thead th {\n",
       "        text-align: right;\n",
       "    }\n",
       "</style>\n",
       "<table border=\"1\" class=\"dataframe\">\n",
       "  <thead>\n",
       "    <tr style=\"text-align: right;\">\n",
       "      <th></th>\n",
       "      <th>Unnamed: 0</th>\n",
       "      <th>Employee_ID</th>\n",
       "      <th>Full_Name</th>\n",
       "      <th>Department</th>\n",
       "      <th>Job_Title</th>\n",
       "      <th>Hire_Date</th>\n",
       "      <th>Location</th>\n",
       "      <th>Performance_Rating</th>\n",
       "      <th>Experience_Years</th>\n",
       "      <th>Status</th>\n",
       "      <th>Work_Mode</th>\n",
       "      <th>Salary_INR</th>\n",
       "    </tr>\n",
       "  </thead>\n",
       "  <tbody>\n",
       "    <tr>\n",
       "      <th>count</th>\n",
       "      <td>2.000000e+06</td>\n",
       "      <td>2000000</td>\n",
       "      <td>2000000</td>\n",
       "      <td>2000000</td>\n",
       "      <td>2000000</td>\n",
       "      <td>2000000</td>\n",
       "      <td>2000000</td>\n",
       "      <td>2.000000e+06</td>\n",
       "      <td>2.000000e+06</td>\n",
       "      <td>2000000</td>\n",
       "      <td>2000000</td>\n",
       "      <td>2.000000e+06</td>\n",
       "    </tr>\n",
       "    <tr>\n",
       "      <th>unique</th>\n",
       "      <td>NaN</td>\n",
       "      <td>2000000</td>\n",
       "      <td>467487</td>\n",
       "      <td>7</td>\n",
       "      <td>29</td>\n",
       "      <td>5479</td>\n",
       "      <td>1593497</td>\n",
       "      <td>NaN</td>\n",
       "      <td>NaN</td>\n",
       "      <td>4</td>\n",
       "      <td>2</td>\n",
       "      <td>NaN</td>\n",
       "    </tr>\n",
       "    <tr>\n",
       "      <th>top</th>\n",
       "      <td>NaN</td>\n",
       "      <td>EMP0000001</td>\n",
       "      <td>Michael Smith</td>\n",
       "      <td>IT</td>\n",
       "      <td>Software Engineer</td>\n",
       "      <td>2022-10-31</td>\n",
       "      <td>Lake Michael, Congo</td>\n",
       "      <td>NaN</td>\n",
       "      <td>NaN</td>\n",
       "      <td>Active</td>\n",
       "      <td>On-site</td>\n",
       "      <td>NaN</td>\n",
       "    </tr>\n",
       "    <tr>\n",
       "      <th>freq</th>\n",
       "      <td>NaN</td>\n",
       "      <td>1</td>\n",
       "      <td>1014</td>\n",
       "      <td>601042</td>\n",
       "      <td>300358</td>\n",
       "      <td>622</td>\n",
       "      <td>20</td>\n",
       "      <td>NaN</td>\n",
       "      <td>NaN</td>\n",
       "      <td>1401558</td>\n",
       "      <td>1199109</td>\n",
       "      <td>NaN</td>\n",
       "    </tr>\n",
       "    <tr>\n",
       "      <th>mean</th>\n",
       "      <td>9.999995e+05</td>\n",
       "      <td>NaN</td>\n",
       "      <td>NaN</td>\n",
       "      <td>NaN</td>\n",
       "      <td>NaN</td>\n",
       "      <td>NaN</td>\n",
       "      <td>NaN</td>\n",
       "      <td>3.000148e+00</td>\n",
       "      <td>5.010287e+00</td>\n",
       "      <td>NaN</td>\n",
       "      <td>NaN</td>\n",
       "      <td>8.968878e+05</td>\n",
       "    </tr>\n",
       "    <tr>\n",
       "      <th>std</th>\n",
       "      <td>5.773504e+05</td>\n",
       "      <td>NaN</td>\n",
       "      <td>NaN</td>\n",
       "      <td>NaN</td>\n",
       "      <td>NaN</td>\n",
       "      <td>NaN</td>\n",
       "      <td>NaN</td>\n",
       "      <td>1.413973e+00</td>\n",
       "      <td>3.608823e+00</td>\n",
       "      <td>NaN</td>\n",
       "      <td>NaN</td>\n",
       "      <td>4.026103e+05</td>\n",
       "    </tr>\n",
       "    <tr>\n",
       "      <th>min</th>\n",
       "      <td>0.000000e+00</td>\n",
       "      <td>NaN</td>\n",
       "      <td>NaN</td>\n",
       "      <td>NaN</td>\n",
       "      <td>NaN</td>\n",
       "      <td>NaN</td>\n",
       "      <td>NaN</td>\n",
       "      <td>1.000000e+00</td>\n",
       "      <td>0.000000e+00</td>\n",
       "      <td>NaN</td>\n",
       "      <td>NaN</td>\n",
       "      <td>3.000000e+05</td>\n",
       "    </tr>\n",
       "    <tr>\n",
       "      <th>25%</th>\n",
       "      <td>4.999998e+05</td>\n",
       "      <td>NaN</td>\n",
       "      <td>NaN</td>\n",
       "      <td>NaN</td>\n",
       "      <td>NaN</td>\n",
       "      <td>NaN</td>\n",
       "      <td>NaN</td>\n",
       "      <td>2.000000e+00</td>\n",
       "      <td>2.000000e+00</td>\n",
       "      <td>NaN</td>\n",
       "      <td>NaN</td>\n",
       "      <td>6.163460e+05</td>\n",
       "    </tr>\n",
       "    <tr>\n",
       "      <th>50%</th>\n",
       "      <td>9.999995e+05</td>\n",
       "      <td>NaN</td>\n",
       "      <td>NaN</td>\n",
       "      <td>NaN</td>\n",
       "      <td>NaN</td>\n",
       "      <td>NaN</td>\n",
       "      <td>NaN</td>\n",
       "      <td>3.000000e+00</td>\n",
       "      <td>5.000000e+00</td>\n",
       "      <td>NaN</td>\n",
       "      <td>NaN</td>\n",
       "      <td>8.110265e+05</td>\n",
       "    </tr>\n",
       "    <tr>\n",
       "      <th>75%</th>\n",
       "      <td>1.499999e+06</td>\n",
       "      <td>NaN</td>\n",
       "      <td>NaN</td>\n",
       "      <td>NaN</td>\n",
       "      <td>NaN</td>\n",
       "      <td>NaN</td>\n",
       "      <td>NaN</td>\n",
       "      <td>4.000000e+00</td>\n",
       "      <td>8.000000e+00</td>\n",
       "      <td>NaN</td>\n",
       "      <td>NaN</td>\n",
       "      <td>1.073745e+06</td>\n",
       "    </tr>\n",
       "    <tr>\n",
       "      <th>max</th>\n",
       "      <td>1.999999e+06</td>\n",
       "      <td>NaN</td>\n",
       "      <td>NaN</td>\n",
       "      <td>NaN</td>\n",
       "      <td>NaN</td>\n",
       "      <td>NaN</td>\n",
       "      <td>NaN</td>\n",
       "      <td>5.000000e+00</td>\n",
       "      <td>1.500000e+01</td>\n",
       "      <td>NaN</td>\n",
       "      <td>NaN</td>\n",
       "      <td>2.999976e+06</td>\n",
       "    </tr>\n",
       "  </tbody>\n",
       "</table>\n",
       "</div>"
      ],
      "text/plain": [
       "          Unnamed: 0 Employee_ID      Full_Name Department          Job_Title  \\\n",
       "count   2.000000e+06     2000000        2000000    2000000            2000000   \n",
       "unique           NaN     2000000         467487          7                 29   \n",
       "top              NaN  EMP0000001  Michael Smith         IT  Software Engineer   \n",
       "freq             NaN           1           1014     601042             300358   \n",
       "mean    9.999995e+05         NaN            NaN        NaN                NaN   \n",
       "std     5.773504e+05         NaN            NaN        NaN                NaN   \n",
       "min     0.000000e+00         NaN            NaN        NaN                NaN   \n",
       "25%     4.999998e+05         NaN            NaN        NaN                NaN   \n",
       "50%     9.999995e+05         NaN            NaN        NaN                NaN   \n",
       "75%     1.499999e+06         NaN            NaN        NaN                NaN   \n",
       "max     1.999999e+06         NaN            NaN        NaN                NaN   \n",
       "\n",
       "         Hire_Date             Location  Performance_Rating  Experience_Years  \\\n",
       "count      2000000              2000000        2.000000e+06      2.000000e+06   \n",
       "unique        5479              1593497                 NaN               NaN   \n",
       "top     2022-10-31  Lake Michael, Congo                 NaN               NaN   \n",
       "freq           622                   20                 NaN               NaN   \n",
       "mean           NaN                  NaN        3.000148e+00      5.010287e+00   \n",
       "std            NaN                  NaN        1.413973e+00      3.608823e+00   \n",
       "min            NaN                  NaN        1.000000e+00      0.000000e+00   \n",
       "25%            NaN                  NaN        2.000000e+00      2.000000e+00   \n",
       "50%            NaN                  NaN        3.000000e+00      5.000000e+00   \n",
       "75%            NaN                  NaN        4.000000e+00      8.000000e+00   \n",
       "max            NaN                  NaN        5.000000e+00      1.500000e+01   \n",
       "\n",
       "         Status Work_Mode    Salary_INR  \n",
       "count   2000000   2000000  2.000000e+06  \n",
       "unique        4         2           NaN  \n",
       "top      Active   On-site           NaN  \n",
       "freq    1401558   1199109           NaN  \n",
       "mean        NaN       NaN  8.968878e+05  \n",
       "std         NaN       NaN  4.026103e+05  \n",
       "min         NaN       NaN  3.000000e+05  \n",
       "25%         NaN       NaN  6.163460e+05  \n",
       "50%         NaN       NaN  8.110265e+05  \n",
       "75%         NaN       NaN  1.073745e+06  \n",
       "max         NaN       NaN  2.999976e+06  "
      ]
     },
     "execution_count": 5,
     "metadata": {},
     "output_type": "execute_result"
    }
   ],
   "source": [
    "df_salario.describe(include='all')"
   ]
  },
  {
   "cell_type": "markdown",
   "id": "a99afe07",
   "metadata": {},
   "source": [
    "A primeira grande observação do grupo foi referente a coluna 'Unnamed: 0', a qual posuia a mesma função de um index. Portanto o grupo pretende removê-la durante o Pré Processamento (removida agora em um dataframe da EDA para evitar possíveis erros nesta etapa)."
   ]
  },
  {
   "cell_type": "code",
   "execution_count": 8,
   "id": "4c27760b",
   "metadata": {},
   "outputs": [],
   "source": [
    "df_salario = df_salario.drop(columns='Unnamed: 0')"
   ]
  },
  {
   "cell_type": "markdown",
   "id": "a3228fcf",
   "metadata": {},
   "source": [
    "Dando segmento na EDA, o grupo optou por executar um conjunto de histogramas para visualizar a distribuição dos dados entre as diferentes features numéricas. É possível observar que a performance está perfeitamente distribuída, enquanto o salário apresenta uma distribuição ruim."
   ]
  },
  {
   "cell_type": "code",
   "execution_count": 11,
   "id": "9ec053c0",
   "metadata": {},
   "outputs": [
    {
     "data": {
      "image/png": "[encoded data removed]",
      "text/plain": [
       "<Figure size 1500x800 with 4 Axes>"
      ]
     },
     "metadata": {},
     "output_type": "display_data"
    }
   ],
   "source": [
    "import matplotlib.pyplot as plt\n",
    "import seaborn as sns\n",
    "\n",
    "df_salario.hist(bins=20, figsize=(15, 8), color='steelblue', edgecolor='black')\n",
    "plt.suptitle('Distribuição das variáveis numéricas', fontsize=16)\n",
    "plt.show()\n"
   ]
  },
  {
   "cell_type": "markdown",
   "id": "a48d3f07",
   "metadata": {},
   "source": [
    "Para entender a concentração dos dados mal distribuídos do salário, o grupo optou por realizar um boxplot, de forma a observar o percentual de valores discrepantes."
   ]
  },
  {
   "cell_type": "code",
   "execution_count": 12,
   "id": "25352865",
   "metadata": {},
   "outputs": [
    {
     "data": {
      "text/plain": [
       "<Axes: >"
      ]
     },
     "execution_count": 12,
     "metadata": {},
     "output_type": "execute_result"
    },
    {
     "data": {
      "image/png": "[encoded data removed]",
      "text/plain": [
       "<Figure size 640x480 with 1 Axes>"
      ]
     },
     "metadata": {},
     "output_type": "display_data"
    }
   ],
   "source": [
    "df_salario.boxplot(column='Salary_INR')"
   ]
  },
  {
   "cell_type": "markdown",
   "id": "d40b87d5",
   "metadata": {},
   "source": [
    "Após realização do boxplot, o grupo optou por reduzir o dataframe em 10% pra cima e 10% p baixo, de forma a tentar excluir o excesso de outliers. É possível ver que após a remoção os Outliers não são mais identificados. - *Eu (Leo) acho que 10% é muito, mas considerando a qtd de dados acho reasonable até. Mas quero checar o fabricio.*"
   ]
  },
  {
   "cell_type": "code",
   "execution_count": 16,
   "id": "04c3d855",
   "metadata": {},
   "outputs": [
    {
     "data": {
      "text/plain": [
       "<Axes: >"
      ]
     },
     "execution_count": 16,
     "metadata": {},
     "output_type": "execute_result"
    },
    {
     "data": {
      "image/png": "[encoded data removed]",
      "text/plain": [
       "<Figure size 640x480 with 1 Axes>"
      ]
     },
     "metadata": {},
     "output_type": "display_data"
    }
   ],
   "source": [
    "q_baixo = 0.1\n",
    "q_alto = 0.9\n",
    "\n",
    "limite_baixo = df_salario['Salary_INR'].quantile(q_baixo)\n",
    "limite_alto = df_salario['Salary_INR'].quantile(q_alto)\n",
    "\n",
    "df_podado = df_salario[\n",
    "    (df_salario['Salary_INR'] >= limite_baixo) & \n",
    "    (df_salario['Salary_INR'] <= limite_alto)\n",
    "]\n",
    "\n",
    "df_podado.boxplot(column='Salary_INR')"
   ]
  },
  {
   "cell_type": "code",
   "execution_count": 17,
   "id": "3cee3fa2",
   "metadata": {},
   "outputs": [
    {
     "data": {
      "text/html": [
       "<style type=\"text/css\">\n",
       "#T_21e03_row0_col0, #T_21e03_row1_col1, #T_21e03_row2_col2 {\n",
       "  background-color: #fcfdbf;\n",
       "  color: #000000;\n",
       "}\n",
       "#T_21e03_row0_col1, #T_21e03_row0_col2, #T_21e03_row1_col0, #T_21e03_row1_col2, #T_21e03_row2_col0, #T_21e03_row2_col1 {\n",
       "  background-color: #000004;\n",
       "  color: #f1f1f1;\n",
       "}\n",
       "</style>\n",
       "<table id=\"T_21e03\">\n",
       "  <thead>\n",
       "    <tr>\n",
       "      <th class=\"blank level0\" >&nbsp;</th>\n",
       "      <th id=\"T_21e03_level0_col0\" class=\"col_heading level0 col0\" >Performance_Rating</th>\n",
       "      <th id=\"T_21e03_level0_col1\" class=\"col_heading level0 col1\" >Experience_Years</th>\n",
       "      <th id=\"T_21e03_level0_col2\" class=\"col_heading level0 col2\" >Salary_INR</th>\n",
       "    </tr>\n",
       "  </thead>\n",
       "  <tbody>\n",
       "    <tr>\n",
       "      <th id=\"T_21e03_level0_row0\" class=\"row_heading level0 row0\" >Performance_Rating</th>\n",
       "      <td id=\"T_21e03_row0_col0\" class=\"data row0 col0\" >1.000000</td>\n",
       "      <td id=\"T_21e03_row0_col1\" class=\"data row0 col1\" >-0.000283</td>\n",
       "      <td id=\"T_21e03_row0_col2\" class=\"data row0 col2\" >-0.000209</td>\n",
       "    </tr>\n",
       "    <tr>\n",
       "      <th id=\"T_21e03_level0_row1\" class=\"row_heading level0 row1\" >Experience_Years</th>\n",
       "      <td id=\"T_21e03_row1_col0\" class=\"data row1 col0\" >-0.000283</td>\n",
       "      <td id=\"T_21e03_row1_col1\" class=\"data row1 col1\" >1.000000</td>\n",
       "      <td id=\"T_21e03_row1_col2\" class=\"data row1 col2\" >0.000796</td>\n",
       "    </tr>\n",
       "    <tr>\n",
       "      <th id=\"T_21e03_level0_row2\" class=\"row_heading level0 row2\" >Salary_INR</th>\n",
       "      <td id=\"T_21e03_row2_col0\" class=\"data row2 col0\" >-0.000209</td>\n",
       "      <td id=\"T_21e03_row2_col1\" class=\"data row2 col1\" >0.000796</td>\n",
       "      <td id=\"T_21e03_row2_col2\" class=\"data row2 col2\" >1.000000</td>\n",
       "    </tr>\n",
       "  </tbody>\n",
       "</table>\n"
      ],
      "text/plain": [
       "<pandas.io.formats.style.Styler at 0x166ac1929b0>"
      ]
     },
     "execution_count": 17,
     "metadata": {},
     "output_type": "execute_result"
    }
   ],
   "source": [
    "df_salario.corr(numeric_only=True).style.background_gradient(cmap= 'magma')"
   ]
  },
  {
   "cell_type": "markdown",
   "id": "df5112de",
   "metadata": {},
   "source": [
    "Feature Engineering com Atributos Qualitativos"
   ]
  }
 ],
 "metadata": {
  "kernelspec": {
   "display_name": "IA (3.12.3)",
   "language": "python",
   "name": "python3"
  },
  "language_info": {
   "codemirror_mode": {
    "name": "ipython",
    "version": 3
   },
   "file_extension": ".py",
   "mimetype": "text/x-python",
   "name": "python",
   "nbconvert_exporter": "python",
   "pygments_lexer": "ipython3",
   "version": "3.12.3"
  }
 },
 "nbformat": 4,
 "nbformat_minor": 5
}
