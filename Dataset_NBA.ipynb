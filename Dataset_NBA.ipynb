{
 "cells": [
  {
   "cell_type": "markdown",
   "id": "207f1d0d",
   "metadata": {},
   "source": [
    "# **Dataset - NBA Players Stats (Classificação)**"
   ]
  },
  {
   "cell_type": "markdown",
   "id": "509f786f",
   "metadata": {},
   "source": [
    "O objetivo do grupo ao analisar esse dataset é, por meio das estatisticas dos jogadores da NBA durante a temporada, descobrir qual a posição em que cada um deles joga."
   ]
  },
  {
   "cell_type": "markdown",
   "id": "60e70147",
   "metadata": {},
   "source": [
    "## **1. Inserção das bibliotecas e leitura dos arquivos**"
   ]
  },
  {
   "cell_type": "markdown",
   "id": "3f39aa4c",
   "metadata": {},
   "source": [
    "Nessa etapa será feita a leitura dos arquivos (datasets) a serem analisados pelo grupo, além da criação dos dataframes."
   ]
  },
  {
   "cell_type": "markdown",
   "id": "a54bd5f6",
   "metadata": {},
   "source": [
    "#### Imports Python"
   ]
  },
  {
   "cell_type": "code",
   "execution_count": null,
   "id": "d0c8a7ad",
   "metadata": {},
   "outputs": [],
   "source": [
    "import pandas as pd\n",
    "import numpy as np\n",
    "\n",
    "pd.set_option('display.max_columns', None) # Para mostrar todas as colunas no .describe()"
   ]
  },
  {
   "cell_type": "markdown",
   "id": "d34da2b2",
   "metadata": {},
   "source": [
    "#### Leitura dos datasets"
   ]
  },
  {
   "cell_type": "code",
   "execution_count": null,
   "id": "2c3a8314",
   "metadata": {},
   "outputs": [],
   "source": [
    "df_regular = pd.read_csv('NBA/2021-2022 NBA Player Stats - Regular.csv', encoding='latin-1', sep=';')\n",
    "df_playoffs = pd.read_csv('NBA/2021-2022 NBA Player Stats - Playoffs.csv', encoding='latin-1', sep=';')\n"
   ]
  },
  {
   "cell_type": "markdown",
   "id": "0772fb51",
   "metadata": {},
   "source": [
    "#### Juntando os dois datasets"
   ]
  },
  {
   "cell_type": "code",
   "execution_count": null,
   "id": "fe4b4aff",
   "metadata": {},
   "outputs": [],
   "source": [
    "df_total = pd.concat([df_regular, df_playoffs], ignore_index=True)"
   ]
  },
  {
   "cell_type": "code",
   "execution_count": null,
   "id": "8fe0db28",
   "metadata": {},
   "outputs": [],
   "source": [
    "df_total.head()"
   ]
  },
  {
   "cell_type": "markdown",
   "id": "1e261c82",
   "metadata": {},
   "source": [
    "## **2. Analise Exploratória dos Dados**"
   ]
  },
  {
   "cell_type": "markdown",
   "id": "29a1f70e",
   "metadata": {},
   "source": [
    "PLACEHOLDER"
   ]
  },
  {
   "cell_type": "markdown",
   "id": "4bf20140",
   "metadata": {},
   "source": [
    "O grupo iniciou utilizando a função .info() do dataframe, para verificar contagem total de valores não nulos e o tipo de dado de cada coluna"
   ]
  },
  {
   "cell_type": "code",
   "execution_count": null,
   "id": "cb041582",
   "metadata": {},
   "outputs": [],
   "source": [
    "df_total.info()"
   ]
  },
  {
   "cell_type": "code",
   "execution_count": null,
   "id": "9d251cf2",
   "metadata": {},
   "outputs": [],
   "source": [
    "df_total.describe(include='all') # Descrição do todo"
   ]
  },
  {
   "cell_type": "markdown",
   "id": "3c9b178c",
   "metadata": {},
   "source": [
    "Com base na descrição, é possível ver que há 31 times (a liga possui 30), e um time com sigla TOT. TOT é utilizado para sumarizar os dados de um jogador quando o mesmo jogou por mais de um time na temporada. Além disso, quando o jogador que jogou por mais de um time e jogou em posições distintas ele pode aparecer com uma \"posição mista\" (como 'SF-PF'). Isso atrapalharia o modelo."
   ]
  },
  {
   "cell_type": "code",
   "execution_count": null,
   "id": "ad4465f4",
   "metadata": {},
   "outputs": [],
   "source": [
    "df_total['Pos'].unique()"
   ]
  },
  {
   "cell_type": "markdown",
   "id": "92589c9d",
   "metadata": {},
   "source": [
    "Para confirmar a quantidade de posições registradas no dataset, o grupo utilizou a função .unique() na classe alvo. Os resultados mostram que existem posições mistas no dataset. Para checar se são originadas devido as linhas com TOT, iremos removê-las e rodar novamente. -> a remoção final deve vir dps"
   ]
  },
  {
   "cell_type": "code",
   "execution_count": null,
   "id": "1a6f7031",
   "metadata": {},
   "outputs": [],
   "source": [
    "posicoes_para_remover = df_total[df_total['Tm'] == 'TOT'].index\n",
    "df_total = df_total.drop(posicoes_para_remover)\n",
    "df_total['Pos'].unique()"
   ]
  },
  {
   "cell_type": "markdown",
   "id": "0f71923b",
   "metadata": {},
   "source": [
    "É possível observar que agora apenas as posições originais do jogo estão no Dataset."
   ]
  },
  {
   "cell_type": "markdown",
   "id": "8d5d50c1",
   "metadata": {},
   "source": [
    "#### Descrevendo classe por classe"
   ]
  },
  {
   "cell_type": "markdown",
   "id": "3e5b0d48",
   "metadata": {},
   "source": [
    "O grupo optou pela descrição classe por classe para obter um panorama geral dos dados, segregados por cada classe"
   ]
  },
  {
   "cell_type": "code",
   "execution_count": null,
   "id": "8eac848e",
   "metadata": {},
   "outputs": [],
   "source": [
    "display(df_total.describe())\n",
    "display(df_total[df_total[\"Pos\"] == \"PG\"].describe())\n",
    "display(df_total[df_total[\"Pos\"] == \"SG\"].describe())\n",
    "display(df_total[df_total[\"Pos\"] == \"SF\"].describe())\n",
    "display(df_total[df_total[\"Pos\"] == \"PF\"].describe())\n",
    "display(df_total[df_total[\"Pos\"] == \"C\"].describe())"
   ]
  },
  {
   "cell_type": "markdown",
   "id": "28450316",
   "metadata": {},
   "source": [
    "Dando seguimento a análise exploratória, o grupo optou por gerar o gráfico de correlação, para identificar o nível de correlação entre os atributos, de forma a aprimorar o resto da EDA. Com base na leitura dos dados é possível observar que as características que marcam tentativas e as que marcam de fato quantos pontos foram feitos (como 3PA e 3P) possuem alta correlação (por falarem da mesma coisa, porém com um ponto de vista diferente). "
   ]
  },
  {
   "cell_type": "code",
   "execution_count": null,
   "id": "7c00d3b7",
   "metadata": {},
   "outputs": [],
   "source": [
    "import seaborn as sns\n",
    "import matplotlib.pyplot as plt"
   ]
  },
  {
   "cell_type": "code",
   "execution_count": null,
   "id": "869aef71",
   "metadata": {},
   "outputs": [],
   "source": [
    "df_total.corr(numeric_only=True).style.background_gradient(cmap= 'magma')"
   ]
  },
  {
   "cell_type": "markdown",
   "id": "42d97b83",
   "metadata": {},
   "source": [
    "Com base na análise realizada para os casos onde há o dado para tentativas e acertos, o grupo optou por seguir utilizando apenas as features de tentativa, por possuírem uma distribuição melhor e mais concisa (valores mais dispersos)."
   ]
  },
  {
   "cell_type": "code",
   "execution_count": null,
   "id": "17510a71",
   "metadata": {},
   "outputs": [],
   "source": [
    "sns.boxplot(df_total, x='Pos', y='3PA', fill=False, color='blue')"
   ]
  },
  {
   "cell_type": "code",
   "execution_count": null,
   "id": "6eb44717",
   "metadata": {},
   "outputs": [],
   "source": [
    "sns.boxplot(df_total, x='Pos', y='3P', fill=False, color='red')"
   ]
  },
  {
   "cell_type": "markdown",
   "id": "25d19fc0",
   "metadata": {},
   "source": [
    "Com base na leitura dos dados, o grupo realizou um gráfico de dispersão com as colunas principais para saber a distribuição dos dados e as correlações entre features com valores plotados."
   ]
  },
  {
   "cell_type": "code",
   "execution_count": null,
   "id": "1b68e1d9",
   "metadata": {},
   "outputs": [],
   "source": [
    "teste = df_total[['PTS', 'AST', 'TRB', '3PA', '2PA', 'TOV', 'Pos']]\n",
    "sns.pairplot(teste, hue='Pos', height=3.5)"
   ]
  },
  {
   "cell_type": "markdown",
   "id": "c4fbce29",
   "metadata": {},
   "source": [
    "Com base na leitura dos dados, o grupo realizou um gráfico para saber quais posições possuem mais PTS (Pontos), AST (Assistências) e TRB (Rebotes). Com base no gráfico, entende-se que a posição C (Pivô) tende a realizar mais rebotes e a posição PG (Armador) tende a realizar mais assistências durante a temporada."
   ]
  },
  {
   "cell_type": "code",
   "execution_count": null,
   "id": "f6e1f22f",
   "metadata": {},
   "outputs": [],
   "source": [
    "stats = (\n",
    "    df_total.groupby('Pos')[['PTS', 'AST', 'TRB']]\n",
    "    .mean()\n",
    "    .sort_values('PTS', ascending=False)\n",
    ")"
   ]
  },
  {
   "cell_type": "code",
   "execution_count": null,
   "id": "b9e9df16",
   "metadata": {},
   "outputs": [],
   "source": [
    "plt.figure(figsize=(10,6))\n",
    "stats.plot(kind='bar', figsize=(10,6), width=0.7, color=['#FF6B6B', '#4ECDC4', '#1A535C'])\n",
    "plt.title('Média de Estatísticas por Posição - NBA 2021-2022', fontsize=14, pad=15)\n",
    "plt.xlabel('Posição')\n",
    "plt.ylabel('Média por Jogo')\n",
    "plt.legend(['PTS', 'AST', 'TRB'], title='Estatísticas')\n",
    "plt.xticks(rotation=0)\n",
    "plt.tight_layout()\n",
    "plt.show()"
   ]
  },
  {
   "cell_type": "markdown",
   "id": "af27f9de",
   "metadata": {},
   "source": [
    "O gráfico mostra a quantidade de jogadores por posição no dataset.\n",
    "\n",
    "Percebe-se que há mais jogadores SG e menos C, indicando um leve desbalanceamento entre as classes."
   ]
  },
  {
   "cell_type": "code",
   "execution_count": null,
   "id": "f057ea22",
   "metadata": {},
   "outputs": [],
   "source": [
    "plt.figure(figsize=(8,5))\n",
    "sns.countplot(data=df_total, x='Pos', hue='Pos', palette='crest', legend=False)\n",
    "plt.title('Quantidade de Jogadores por Posição')\n",
    "plt.xlabel('Posição')\n",
    "plt.ylabel('Número de Jogadores')\n",
    "plt.show()"
   ]
  }
 ],
 "metadata": {
  "kernelspec": {
   "display_name": "Python 3",
   "language": "python",
   "name": "python3"
  },
  "language_info": {
   "codemirror_mode": {
    "name": "ipython",
    "version": 3
   },
   "file_extension": ".py",
   "mimetype": "text/x-python",
   "name": "python",
   "nbconvert_exporter": "python",
   "pygments_lexer": "ipython3",
   "version": "3.10.5"
  }
 },
 "nbformat": 4,
 "nbformat_minor": 5
}
